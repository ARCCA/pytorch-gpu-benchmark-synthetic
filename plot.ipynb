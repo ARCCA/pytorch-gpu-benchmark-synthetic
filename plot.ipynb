{
 "cells": [
  {
   "cell_type": "markdown",
   "metadata": {},
   "source": [
    "If you want to make a plot, change the folder name <br>\n",
    "after installing plotly,cufflink and run the following code.<br>\n",
    "```folder_name='new_results'```"
   ]
  },
  {
   "cell_type": "code",
   "execution_count": null,
   "metadata": {},
   "outputs": [],
   "source": [
    "import pandas as pd\n",
    "import os,time\n",
    "import glob\n",
    "import cufflinks as cf\n",
    "import plotly.offline\n",
    "cf.go_offline()\n",
    "cf.set_config_file(offline=True, world_readable=True)\n",
    "import torchvision.models as models"
   ]
  },
  {
   "cell_type": "code",
   "execution_count": null,
   "metadata": {},
   "outputs": [],
   "source": [
    "MODEL_LIST = {\n",
    "    'mnasnet':models.mnasnet.__all__[1:],\n",
    "    'resnet': models.resnet.__all__[1:],\n",
    "    'densenet': models.densenet.__all__[1:],\n",
    "    'squeezenet': models.squeezenet.__all__[1:],\n",
    "    'vgg': models.vgg.__all__[1:],\n",
    "    'mobilenet':models.mobilenet.__all__[1:],\n",
    "    'shufflenetv2':models.shufflenetv2.__all__[1:]\n",
    "}\n",
    "folder_name='new_results'"
   ]
  },
  {
   "cell_type": "code",
   "execution_count": null,
   "metadata": {},
   "outputs": [],
   "source": [
    "csv_list=glob.glob(folder_name+'/*')\n",
    "columes=[]\n",
    "for key,values in MODEL_LIST.items():\n",
    "    for i in values:\n",
    "        columes.append((key,i))"
   ]
  },
  {
   "cell_type": "code",
   "execution_count": null,
   "metadata": {},
   "outputs": [],
   "source": [
    "for csv in csv_list:\n",
    "    df=pd.read_csv(csv)\n",
    "    df.columns = pd.MultiIndex.from_tuples(columes)\n",
    "    df.groupby(level=0,axis=1).mean().mean()\n",
    "    title=csv.split('/')[1].split('_benchmark')[0]\n",
    "    title=title.replace(' ','_')\n",
    "    df.groupby(level=0,axis=1).mean().mean().iplot(kind='scatter',mode='markers',title=title,yTitle='time(ms)',xTitle='models',asImage=True,filename=title)\n",
    "    for model in MODEL_LIST.keys():\n",
    "        df.mean()[model].iplot(kind='scatter',mode='markers',title=model+\"_\"+title,yTitle='time(ms)',xTitle='models',asImage=True,filename=model+\"_\"+title)\n",
    "        time.sleep(1)"
   ]
  },
  {
   "cell_type": "code",
   "execution_count": null,
   "metadata": {},
   "outputs": [],
   "source": []
  }
 ],
 "metadata": {
  "kernelspec": {
   "display_name": "Python 3",
   "language": "python",
   "name": "python3"
  },
  "language_info": {
   "codemirror_mode": {
    "name": "ipython",
    "version": 3
   },
   "file_extension": ".py",
   "mimetype": "text/x-python",
   "name": "python",
   "nbconvert_exporter": "python",
   "pygments_lexer": "ipython3",
   "version": "3.6.9"
  }
 },
 "nbformat": 4,
 "nbformat_minor": 2
}
